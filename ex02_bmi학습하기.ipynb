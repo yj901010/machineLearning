{
 "cells": [
  {
   "cell_type": "markdown",
   "id": "f241e1d6",
   "metadata": {},
   "source": [
    "### 목표\n",
    "- 문제정의\n",
    " - 500명의 키와 몸무게, 비만도 라벨을 이용하여 비만을 판단하는 모델을 만들어보자.\n",
    " - 머신러닝 과정을 이해해보자."
   ]
  },
  {
   "cell_type": "code",
   "execution_count": 1,
   "id": "b589e668",
   "metadata": {},
   "outputs": [],
   "source": [
    "# 판다스, 시각화\n",
    "import pandas as pd\n",
    "import matplotlib.pyplot as plt\n",
    "# 모델 관련한 불러오는 코드 (2줄)\n",
    "# knn 모델 불러오기, 측정 도구 불러오기\n",
    "from sklearn.neighbors import KNeighborsClassifier\n",
    "from sklearn.metrics import accuracy_score"
   ]
  },
  {
   "cell_type": "code",
   "execution_count": 6,
   "id": "b1b116cb",
   "metadata": {},
   "outputs": [
    {
     "data": {
      "text/html": [
       "<div>\n",
       "<style scoped>\n",
       "    .dataframe tbody tr th:only-of-type {\n",
       "        vertical-align: middle;\n",
       "    }\n",
       "\n",
       "    .dataframe tbody tr th {\n",
       "        vertical-align: top;\n",
       "    }\n",
       "\n",
       "    .dataframe thead th {\n",
       "        text-align: right;\n",
       "    }\n",
       "</style>\n",
       "<table border=\"1\" class=\"dataframe\">\n",
       "  <thead>\n",
       "    <tr style=\"text-align: right;\">\n",
       "      <th></th>\n",
       "      <th>Gender</th>\n",
       "      <th>Height</th>\n",
       "      <th>Weight</th>\n",
       "    </tr>\n",
       "    <tr>\n",
       "      <th>Label</th>\n",
       "      <th></th>\n",
       "      <th></th>\n",
       "      <th></th>\n",
       "    </tr>\n",
       "  </thead>\n",
       "  <tbody>\n",
       "    <tr>\n",
       "      <th>Obesity</th>\n",
       "      <td>Male</td>\n",
       "      <td>174</td>\n",
       "      <td>96</td>\n",
       "    </tr>\n",
       "    <tr>\n",
       "      <th>Normal</th>\n",
       "      <td>Male</td>\n",
       "      <td>189</td>\n",
       "      <td>87</td>\n",
       "    </tr>\n",
       "    <tr>\n",
       "      <th>Obesity</th>\n",
       "      <td>Female</td>\n",
       "      <td>185</td>\n",
       "      <td>110</td>\n",
       "    </tr>\n",
       "    <tr>\n",
       "      <th>Overweight</th>\n",
       "      <td>Female</td>\n",
       "      <td>195</td>\n",
       "      <td>104</td>\n",
       "    </tr>\n",
       "    <tr>\n",
       "      <th>Overweight</th>\n",
       "      <td>Male</td>\n",
       "      <td>149</td>\n",
       "      <td>61</td>\n",
       "    </tr>\n",
       "    <tr>\n",
       "      <th>...</th>\n",
       "      <td>...</td>\n",
       "      <td>...</td>\n",
       "      <td>...</td>\n",
       "    </tr>\n",
       "    <tr>\n",
       "      <th>Extreme Obesity</th>\n",
       "      <td>Female</td>\n",
       "      <td>150</td>\n",
       "      <td>153</td>\n",
       "    </tr>\n",
       "    <tr>\n",
       "      <th>Obesity</th>\n",
       "      <td>Female</td>\n",
       "      <td>184</td>\n",
       "      <td>121</td>\n",
       "    </tr>\n",
       "    <tr>\n",
       "      <th>Extreme Obesity</th>\n",
       "      <td>Female</td>\n",
       "      <td>141</td>\n",
       "      <td>136</td>\n",
       "    </tr>\n",
       "    <tr>\n",
       "      <th>Extreme Obesity</th>\n",
       "      <td>Male</td>\n",
       "      <td>150</td>\n",
       "      <td>95</td>\n",
       "    </tr>\n",
       "    <tr>\n",
       "      <th>Extreme Obesity</th>\n",
       "      <td>Male</td>\n",
       "      <td>173</td>\n",
       "      <td>131</td>\n",
       "    </tr>\n",
       "  </tbody>\n",
       "</table>\n",
       "<p>500 rows × 3 columns</p>\n",
       "</div>"
      ],
      "text/plain": [
       "                 Gender  Height  Weight\n",
       "Label                                  \n",
       "Obesity            Male     174      96\n",
       "Normal             Male     189      87\n",
       "Obesity          Female     185     110\n",
       "Overweight       Female     195     104\n",
       "Overweight         Male     149      61\n",
       "...                 ...     ...     ...\n",
       "Extreme Obesity  Female     150     153\n",
       "Obesity          Female     184     121\n",
       "Extreme Obesity  Female     141     136\n",
       "Extreme Obesity    Male     150      95\n",
       "Extreme Obesity    Male     173     131\n",
       "\n",
       "[500 rows x 3 columns]"
      ]
     },
     "execution_count": 6,
     "metadata": {},
     "output_type": "execute_result"
    }
   ],
   "source": [
    "# pd.read_csv()\n",
    "# data 변수에 담아주기\n",
    "# Label 컬럼을 인덱스로 설정해서 불러오기\n",
    "data = pd.read_csv('data/bmi_500.csv', index_col='Label')\n",
    "data"
   ]
  },
  {
   "cell_type": "code",
   "execution_count": 7,
   "id": "acd618b0",
   "metadata": {},
   "outputs": [
    {
     "name": "stdout",
     "output_type": "stream",
     "text": [
      "<class 'pandas.core.frame.DataFrame'>\n",
      "Index: 500 entries, Obesity to Extreme Obesity\n",
      "Data columns (total 3 columns):\n",
      " #   Column  Non-Null Count  Dtype \n",
      "---  ------  --------------  ----- \n",
      " 0   Gender  500 non-null    object\n",
      " 1   Height  500 non-null    int64 \n",
      " 2   Weight  500 non-null    int64 \n",
      "dtypes: int64(2), object(1)\n",
      "memory usage: 15.6+ KB\n"
     ]
    }
   ],
   "source": [
    "# 데이터 정보 확인해보기\n",
    "# 전체 행, 컬럼 정보, 결측치 여부 확인\n",
    "data.info()\n",
    "# shape: (500,3)\n",
    "# 성별 컬럼, 키, 몸무게 모두 결측치 x\n",
    "# 데이터 확인 필수 ! -> 머신러닝 모델은 문자를 이해할 수 없음\n",
    "# 이번 실습에서는 Height, Weight, Label 3개만 활용"
   ]
  },
  {
   "cell_type": "markdown",
   "id": "8e0a4656",
   "metadata": {},
   "source": [
    "### 데이터 전처리 : pass"
   ]
  },
  {
   "cell_type": "markdown",
   "id": "a67a8906",
   "metadata": {},
   "source": [
    "### 데이터 분석(탐색)\n",
    " - 기술 통계 확인 : 평균, 최소, 중앙(오름차순으로 줄세웠을 때 정중앙에 있는 값), 최대\n",
    " - 시각화를 통해 데이터의 분포 확인해보기"
   ]
  },
  {
   "cell_type": "code",
   "execution_count": 10,
   "id": "a4412f93",
   "metadata": {},
   "outputs": [
    {
     "data": {
      "text/html": [
       "<div>\n",
       "<style scoped>\n",
       "    .dataframe tbody tr th:only-of-type {\n",
       "        vertical-align: middle;\n",
       "    }\n",
       "\n",
       "    .dataframe tbody tr th {\n",
       "        vertical-align: top;\n",
       "    }\n",
       "\n",
       "    .dataframe thead th {\n",
       "        text-align: right;\n",
       "    }\n",
       "</style>\n",
       "<table border=\"1\" class=\"dataframe\">\n",
       "  <thead>\n",
       "    <tr style=\"text-align: right;\">\n",
       "      <th></th>\n",
       "      <th>Height</th>\n",
       "      <th>Weight</th>\n",
       "    </tr>\n",
       "  </thead>\n",
       "  <tbody>\n",
       "    <tr>\n",
       "      <th>count</th>\n",
       "      <td>500.000000</td>\n",
       "      <td>500.000000</td>\n",
       "    </tr>\n",
       "    <tr>\n",
       "      <th>mean</th>\n",
       "      <td>169.944000</td>\n",
       "      <td>106.000000</td>\n",
       "    </tr>\n",
       "    <tr>\n",
       "      <th>std</th>\n",
       "      <td>16.375261</td>\n",
       "      <td>32.382607</td>\n",
       "    </tr>\n",
       "    <tr>\n",
       "      <th>min</th>\n",
       "      <td>140.000000</td>\n",
       "      <td>50.000000</td>\n",
       "    </tr>\n",
       "    <tr>\n",
       "      <th>25%</th>\n",
       "      <td>156.000000</td>\n",
       "      <td>80.000000</td>\n",
       "    </tr>\n",
       "    <tr>\n",
       "      <th>50%</th>\n",
       "      <td>170.500000</td>\n",
       "      <td>106.000000</td>\n",
       "    </tr>\n",
       "    <tr>\n",
       "      <th>75%</th>\n",
       "      <td>184.000000</td>\n",
       "      <td>136.000000</td>\n",
       "    </tr>\n",
       "    <tr>\n",
       "      <th>max</th>\n",
       "      <td>199.000000</td>\n",
       "      <td>160.000000</td>\n",
       "    </tr>\n",
       "  </tbody>\n",
       "</table>\n",
       "</div>"
      ],
      "text/plain": [
       "           Height      Weight\n",
       "count  500.000000  500.000000\n",
       "mean   169.944000  106.000000\n",
       "std     16.375261   32.382607\n",
       "min    140.000000   50.000000\n",
       "25%    156.000000   80.000000\n",
       "50%    170.500000  106.000000\n",
       "75%    184.000000  136.000000\n",
       "max    199.000000  160.000000"
      ]
     },
     "execution_count": 10,
     "metadata": {},
     "output_type": "execute_result"
    }
   ],
   "source": [
    "# describe()\n",
    "data.describe()"
   ]
  },
  {
   "cell_type": "code",
   "execution_count": 11,
   "id": "0dd1b429",
   "metadata": {},
   "outputs": [
    {
     "data": {
      "text/plain": [
       "Index(['Obesity', 'Normal', 'Overweight', 'Extreme Obesity', 'Weak',\n",
       "       'Extremely Weak'],\n",
       "      dtype='object', name='Label')"
      ]
     },
     "execution_count": 11,
     "metadata": {},
     "output_type": "execute_result"
    }
   ],
   "source": [
    "# 먼저 Label 확인이 필요함\n",
    "# 중복없이 Label 확인해보자\n",
    "data.index.unique()\n",
    "\n",
    "# 'Extreme Obesity' 고도비만\n",
    "# 'Obesity' 비만\n",
    "# 'Overweight' 과체중\n",
    "# 'Normal' 정상체중\n",
    "# 'Weak' 저체중\n",
    "# 'Extremely Weak' 극심한 저체중"
   ]
  },
  {
   "cell_type": "code",
   "execution_count": 12,
   "id": "6bfab235",
   "metadata": {},
   "outputs": [
    {
     "data": {
      "text/plain": [
       "Extreme Obesity    198\n",
       "Obesity            130\n",
       "Normal              69\n",
       "Overweight          68\n",
       "Weak                22\n",
       "Extremely Weak      13\n",
       "Name: Label, dtype: int64"
      ]
     },
     "execution_count": 12,
     "metadata": {},
     "output_type": "execute_result"
    }
   ],
   "source": [
    "# 각각의 값의 횟수를 셀 수 있는 함수(기능)\n",
    "# value_counts()\n",
    "data.index.value_counts()"
   ]
  },
  {
   "cell_type": "code",
   "execution_count": 24,
   "id": "1023fd64",
   "metadata": {},
   "outputs": [
    {
     "data": {
      "image/png": "[encoded data removed]",
      "text/plain": [
       "<Figure size 640x480 with 1 Axes>"
      ]
     },
     "metadata": {},
     "output_type": "display_data"
    }
   ],
   "source": [
    "# 시각화 해보기 : 비만도 레이블을 표현해보기\n",
    "# x축 키, y축 몸무게를 기준으로 산점도 그려보기\n",
    "# Extreme Obesity 에 해당하는 행만 접근하기\n",
    "# loc[행인덱싱]\n",
    "d = data.loc['Extreme Obesity'] # .shape 크기확인\n",
    "plt.scatter(d['Height'], d['Weight'], c='blue', label='ext obes') # d.loc[:Height]\n",
    "\n",
    "# Obesity 행만 접근해보기 -> d2\n",
    "# 산점도 표현해보기\n",
    "d2 = data.loc['Obesity']\n",
    "plt.scatter(d2['Height'], d2['Weight'], c='red', label='obes')\n",
    "\n",
    "plt.legend() # 범례 표시\n",
    "plt.show()"
   ]
  },
  {
   "cell_type": "code",
   "execution_count": 31,
   "id": "548043a7",
   "metadata": {},
   "outputs": [],
   "source": [
    "# 그래프를 그리는 함수 정의\n",
    "def bmi_draw(label, color):\n",
    "    d2 = data.loc[label]\n",
    "    plt.scatter(d2['Height'], d2['Weight'], c=color, label=label)"
   ]
  },
  {
   "cell_type": "code",
   "execution_count": 26,
   "id": "48aa993f",
   "metadata": {},
   "outputs": [
    {
     "data": {
      "text/plain": [
       "Index(['Obesity', 'Normal', 'Overweight', 'Extreme Obesity', 'Weak',\n",
       "       'Extremely Weak'],\n",
       "      dtype='object', name='Label')"
      ]
     },
     "execution_count": 26,
     "metadata": {},
     "output_type": "execute_result"
    }
   ],
   "source": [
    "data.index.unique()"
   ]
  },
  {
   "cell_type": "code",
   "execution_count": 33,
   "id": "36ad57bf",
   "metadata": {},
   "outputs": [
    {
     "data": {
      "image/png": "[encoded data removed]",
      "text/plain": [
       "<Figure size 640x480 with 1 Axes>"
      ]
     },
     "metadata": {},
     "output_type": "display_data"
    }
   ],
   "source": [
    "# Label 을 하나씩 연결하면서, 색감도 설정하면서 함수를 6번 호출(사용)\n",
    "bmi_draw('Extreme Obesity', 'blue')\n",
    "bmi_draw('Obesity', 'cyan')\n",
    "bmi_draw('Overweight', 'green')\n",
    "bmi_draw('Normal', 'yellow')\n",
    "bmi_draw('Weak', 'orange')\n",
    "bmi_draw('Extremely Weak', 'red')\n",
    "\n",
    "plt.legend()\n",
    "plt.show()"
   ]
  },
  {
   "cell_type": "markdown",
   "id": "64d60bf3",
   "metadata": {},
   "source": [
    "### 모델링\n",
    " - 모델 선택 및 하이퍼 파라미터 조정(knn모델 선택)\n",
    " - 모델 학습\n",
    " - 모델 예측 및 평가"
   ]
  },
  {
   "cell_type": "code",
   "execution_count": 36,
   "id": "249698ab",
   "metadata": {},
   "outputs": [
    {
     "data": {
      "text/html": [
       "<div>\n",
       "<style scoped>\n",
       "    .dataframe tbody tr th:only-of-type {\n",
       "        vertical-align: middle;\n",
       "    }\n",
       "\n",
       "    .dataframe tbody tr th {\n",
       "        vertical-align: top;\n",
       "    }\n",
       "\n",
       "    .dataframe thead th {\n",
       "        text-align: right;\n",
       "    }\n",
       "</style>\n",
       "<table border=\"1\" class=\"dataframe\">\n",
       "  <thead>\n",
       "    <tr style=\"text-align: right;\">\n",
       "      <th></th>\n",
       "      <th>Label</th>\n",
       "      <th>Gender</th>\n",
       "      <th>Height</th>\n",
       "      <th>Weight</th>\n",
       "    </tr>\n",
       "  </thead>\n",
       "  <tbody>\n",
       "    <tr>\n",
       "      <th>0</th>\n",
       "      <td>Obesity</td>\n",
       "      <td>Male</td>\n",
       "      <td>174</td>\n",
       "      <td>96</td>\n",
       "    </tr>\n",
       "    <tr>\n",
       "      <th>1</th>\n",
       "      <td>Normal</td>\n",
       "      <td>Male</td>\n",
       "      <td>189</td>\n",
       "      <td>87</td>\n",
       "    </tr>\n",
       "    <tr>\n",
       "      <th>2</th>\n",
       "      <td>Obesity</td>\n",
       "      <td>Female</td>\n",
       "      <td>185</td>\n",
       "      <td>110</td>\n",
       "    </tr>\n",
       "    <tr>\n",
       "      <th>3</th>\n",
       "      <td>Overweight</td>\n",
       "      <td>Female</td>\n",
       "      <td>195</td>\n",
       "      <td>104</td>\n",
       "    </tr>\n",
       "    <tr>\n",
       "      <th>4</th>\n",
       "      <td>Overweight</td>\n",
       "      <td>Male</td>\n",
       "      <td>149</td>\n",
       "      <td>61</td>\n",
       "    </tr>\n",
       "    <tr>\n",
       "      <th>...</th>\n",
       "      <td>...</td>\n",
       "      <td>...</td>\n",
       "      <td>...</td>\n",
       "      <td>...</td>\n",
       "    </tr>\n",
       "    <tr>\n",
       "      <th>495</th>\n",
       "      <td>Extreme Obesity</td>\n",
       "      <td>Female</td>\n",
       "      <td>150</td>\n",
       "      <td>153</td>\n",
       "    </tr>\n",
       "    <tr>\n",
       "      <th>496</th>\n",
       "      <td>Obesity</td>\n",
       "      <td>Female</td>\n",
       "      <td>184</td>\n",
       "      <td>121</td>\n",
       "    </tr>\n",
       "    <tr>\n",
       "      <th>497</th>\n",
       "      <td>Extreme Obesity</td>\n",
       "      <td>Female</td>\n",
       "      <td>141</td>\n",
       "      <td>136</td>\n",
       "    </tr>\n",
       "    <tr>\n",
       "      <th>498</th>\n",
       "      <td>Extreme Obesity</td>\n",
       "      <td>Male</td>\n",
       "      <td>150</td>\n",
       "      <td>95</td>\n",
       "    </tr>\n",
       "    <tr>\n",
       "      <th>499</th>\n",
       "      <td>Extreme Obesity</td>\n",
       "      <td>Male</td>\n",
       "      <td>173</td>\n",
       "      <td>131</td>\n",
       "    </tr>\n",
       "  </tbody>\n",
       "</table>\n",
       "<p>500 rows × 4 columns</p>\n",
       "</div>"
      ],
      "text/plain": [
       "               Label  Gender  Height  Weight\n",
       "0            Obesity    Male     174      96\n",
       "1             Normal    Male     189      87\n",
       "2            Obesity  Female     185     110\n",
       "3         Overweight  Female     195     104\n",
       "4         Overweight    Male     149      61\n",
       "..               ...     ...     ...     ...\n",
       "495  Extreme Obesity  Female     150     153\n",
       "496          Obesity  Female     184     121\n",
       "497  Extreme Obesity  Female     141     136\n",
       "498  Extreme Obesity    Male     150      95\n",
       "499  Extreme Obesity    Male     173     131\n",
       "\n",
       "[500 rows x 4 columns]"
      ]
     },
     "execution_count": 36,
     "metadata": {},
     "output_type": "execute_result"
    }
   ],
   "source": [
    "# 인덱스에 있는 label을 컬럼쪽으로 연결하기(이동하기) : df.reset_index()\n",
    "# 컬럼명 확인 df.columns\n",
    "data2 = data.reset_index() # 원본을 유지하고 싶다면 새로운 변수명으로 대입\n",
    "data2\n",
    "# data index가 Label로 된 상태가 그대로 유지됨(원본 유지)"
   ]
  },
  {
   "cell_type": "code",
   "execution_count": 58,
   "id": "ec7b1336",
   "metadata": {},
   "outputs": [
    {
     "data": {
      "text/plain": [
       "array([[0, 1, 2, 3, 4],\n",
       "       [5, 6, 7, 8, 9]])"
      ]
     },
     "metadata": {},
     "output_type": "display_data"
    },
    {
     "data": {
      "text/plain": [
       "array([5, 6, 7, 8, 9])"
      ]
     },
     "metadata": {},
     "output_type": "display_data"
    },
    {
     "data": {
      "text/plain": [
       "8"
      ]
     },
     "metadata": {},
     "output_type": "display_data"
    },
    {
     "data": {
      "text/plain": [
       "4"
      ]
     },
     "metadata": {},
     "output_type": "display_data"
    },
    {
     "data": {
      "text/plain": [
       "4"
      ]
     },
     "metadata": {},
     "output_type": "display_data"
    }
   ],
   "source": [
    "# 인덱싱 설명\n",
    "# numpy 2차원일 때\n",
    "import numpy as np\n",
    "arr = np.arange(0,10).reshape(2,5)\n",
    "display(arr) # 기존의 자료구조 형태의 모양을 유지하면서 출력\n",
    "# 1번째 행 접근\n",
    "display(arr[1])\n",
    "# 숫자 8이라는 데이터 접근 arr[행][열] == arr[행,열]\n",
    "display(arr[1][3])\n",
    "# 숫자 4에 접근하기\n",
    "display(arr[0][4])\n",
    "display(arr[0,4])\n",
    "# arr[행][열] -> arr[행,열]"
   ]
  },
  {
   "cell_type": "code",
   "execution_count": null,
   "id": "c8e659fa",
   "metadata": {},
   "outputs": [],
   "source": [
    "# 판다스에서\n",
    "# loc. iloc 인덱서를 사용해야 가능\n",
    "# df.loc[행, 열]\n",
    "# df.iloc[행, 열]\n",
    "\n",
    "# 행 데이터 접근\n",
    "# df.loc[행], df.loc[값:값] ==> df.loc[행:행]\n",
    "# df.iloc[행], df.iloc[값:값] ==> df.iloc[행:행]\n",
    "\n",
    "# 열 데이터 접근\n",
    "# df.loc[:,열], df.loc[:, 열:열]\n",
    "# df.iloc[:,열인덱스], df.iloc[:, 열인덱스:열인덱스]\n",
    "\n",
    "# 행, 열 접근\n",
    "# df.loc[시작행:끝행, 시작열:끝열]\n",
    "# df.iloc[시작행인덱스:끝행인덱스, 시작열인덱스:끝열인덱스]"
   ]
  },
  {
   "cell_type": "code",
   "execution_count": null,
   "id": "1a06985c",
   "metadata": {},
   "outputs": [],
   "source": []
  },
  {
   "cell_type": "code",
   "execution_count": 59,
   "id": "5aec25eb",
   "metadata": {},
   "outputs": [
    {
     "name": "stdout",
     "output_type": "stream",
     "text": [
      "문제크기:  (500, 2)\n",
      "답크기:  (500, 1)\n"
     ]
    }
   ],
   "source": [
    "# 문제, 답 (컬럼 분리)\n",
    "y = data2.loc[:,:'Label']\n",
    "x = data2.loc[:,'Height':]\n",
    "\n",
    "# 크기확인\n",
    "print('문제크기: ', x.shape)\n",
    "print('답크기: ', y.shape)"
   ]
  },
  {
   "cell_type": "code",
   "execution_count": null,
   "id": "88b69011",
   "metadata": {},
   "outputs": [],
   "source": [
    "# 행이 총 몇개? 500\n",
    "# train, test 데이터로 분리하는 비율\n",
    "# 7:3 (7.5:2.5) , (8:2)\n",
    "# x_train, y_train, x_test, y_test\n",
    "# 500개중에서 몇개까지가 70%에 속하는 데이터의 개수는?"
   ]
  },
  {
   "cell_type": "code",
   "execution_count": null,
   "id": "833df6e5",
   "metadata": {},
   "outputs": [],
   "source": []
  },
  {
   "cell_type": "code",
   "execution_count": null,
   "id": "61f6941c",
   "metadata": {},
   "outputs": [],
   "source": []
  }
 ],
 "metadata": {
  "kernelspec": {
   "display_name": "Python 3 (ipykernel)",
   "language": "python",
   "name": "python3"
  },
  "language_info": {
   "codemirror_mode": {
    "name": "ipython",
    "version": 3
   },
   "file_extension": ".py",
   "mimetype": "text/x-python",
   "name": "python",
   "nbconvert_exporter": "python",
   "pygments_lexer": "ipython3",
   "version": "3.10.9"
  }
 },
 "nbformat": 4,
 "nbformat_minor": 5
}
